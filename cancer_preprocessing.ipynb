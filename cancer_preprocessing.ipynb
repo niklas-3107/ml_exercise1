{
 "cells": [
  {
   "cell_type": "code",
   "execution_count": 5,
   "metadata": {},
   "outputs": [],
   "source": [
    "import pandas as pd\n",
    "pd.options.display.max_columns = 50"
   ]
  },
  {
   "cell_type": "code",
   "execution_count": 34,
   "metadata": {},
   "outputs": [],
   "source": [
    "### extract headers as they contain white spaces\n",
    "colnames = pd.read_csv(\"data/breast-cancer-diagnostic.shuf.lrn.csv\", header = None, nrows=1)\n",
    "header = []\n",
    "for i in range(0,31):\n",
    "    header.append(colnames.iloc[0, i].strip())\n",
    "\n",
    "### read data set\n",
    "cancer = pd.read_csv(\"data/breast-cancer-diagnostic.shuf.lrn.csv\", header = None, names = header, skiprows=1, index_col=False)"
   ]
  },
  {
   "cell_type": "code",
   "execution_count": 36,
   "metadata": {},
   "outputs": [
    {
     "name": "stdout",
     "output_type": "stream",
     "text": [
      "['ID', 'class', 'radiusMean', 'textureMean', 'perimeterMean', 'areaMean', 'smoothnessMean', 'compactnessMean', 'concavityMean', 'concavePointsMean', 'symmetryMean', 'fractalDimensionMean', 'radiusStdErr', 'textureStdErr', 'perimeterStdErr', 'areaStdErr', 'smoothnessStdErr', 'compactnessStdErr', 'concavityStdErr', 'concavePointsStdErr', 'symmetryStdErr', 'fractalDimensionStdErr', 'radiusWorst', 'textureWorst', 'perimeterWorst', 'areaWorst', 'smoothnessWorst', 'compactnessWorst', 'concavityWorst', 'concavePointsWorst', 'symmetryWorst']\n",
      "        ID class  radiusMean  textureMean  perimeterMean  areaMean  \\\n",
      "0   868682     B       11.43        15.39          73.06     399.8   \n",
      "1   881972     M       17.05        19.08         113.40     895.0   \n",
      "2   901315     B       10.57        20.22          70.15     338.3   \n",
      "3  9112367     B       13.21        25.25          84.10     537.9   \n",
      "4  8711202     M       17.68        20.74         117.40     963.7   \n",
      "\n",
      "   smoothnessMean  compactnessMean  concavityMean  concavePointsMean  \\\n",
      "0         0.09639          0.06889        0.03503            0.02875   \n",
      "1         0.11410          0.15720        0.19100            0.10900   \n",
      "2         0.09073          0.16600        0.22800            0.05941   \n",
      "3         0.08791          0.05205        0.02772            0.02068   \n",
      "4         0.11150          0.16650        0.18550            0.10540   \n",
      "\n",
      "   symmetryMean  fractalDimensionMean  radiusStdErr  textureStdErr  \\\n",
      "0        0.1734               0.05865        0.1759         0.9938   \n",
      "1        0.2131               0.06325        0.2959         0.6790   \n",
      "2        0.2188               0.08450        0.1115         1.2310   \n",
      "3        0.1619               0.05584        0.2084         1.3500   \n",
      "4        0.1971               0.06166        0.8113         1.4000   \n",
      "\n",
      "   perimeterStdErr  areaStdErr  smoothnessStdErr  compactnessStdErr  \\\n",
      "0            1.143      12.670          0.005133           0.015210   \n",
      "1            2.153      31.980          0.005532           0.020080   \n",
      "2            2.363       7.228          0.008499           0.076430   \n",
      "3            1.314      17.580          0.005768           0.008082   \n",
      "4            5.540      93.910          0.009037           0.049540   \n",
      "\n",
      "   concavityStdErr  concavePointsStdErr  symmetryStdErr  \\\n",
      "0          0.01434             0.008602         0.01501   \n",
      "1          0.03055             0.013840         0.01177   \n",
      "2          0.15350             0.029190         0.01617   \n",
      "3          0.01510             0.006451         0.01347   \n",
      "4          0.05206             0.018410         0.01778   \n",
      "\n",
      "   fractalDimensionStdErr  radiusWorst  textureWorst  perimeterWorst  \\\n",
      "0                0.001588        12.32         22.02           79.93   \n",
      "1                0.002336        19.59         24.89          133.50   \n",
      "2                0.012200        10.85         22.82           76.51   \n",
      "3                0.001828        14.35         34.23           91.29   \n",
      "4                0.004968        20.47         25.11          132.90   \n",
      "\n",
      "   areaWorst  smoothnessWorst  compactnessWorst  concavityWorst  \\\n",
      "0      462.0           0.1190            0.1648          0.1399   \n",
      "1     1189.0           0.1703            0.3934          0.5018   \n",
      "2      351.9           0.1143            0.3619          0.6030   \n",
      "3      632.9           0.1289            0.1063          0.1390   \n",
      "4     1302.0           0.1418            0.3498          0.3583   \n",
      "\n",
      "   concavePointsWorst  symmetryWorst  \n",
      "0             0.08476         0.2676  \n",
      "1             0.25430         0.3109  \n",
      "2             0.14650         0.2597  \n",
      "3             0.06005         0.2444  \n",
      "4             0.15150         0.2463  \n"
     ]
    }
   ],
   "source": [
    "### Overview\n",
    "print(header)\n",
    "print(cancer.head())"
   ]
  },
  {
   "cell_type": "code",
   "execution_count": 47,
   "metadata": {},
   "outputs": [
    {
     "name": "stdout",
     "output_type": "stream",
     "text": [
      "<class 'pandas.core.frame.DataFrame'>\n",
      "RangeIndex: 285 entries, 0 to 284\n",
      "Data columns (total 31 columns):\n",
      "ID                        285 non-null int64\n",
      "class                     285 non-null category\n",
      "radiusMean                285 non-null float64\n",
      "textureMean               285 non-null float64\n",
      "perimeterMean             285 non-null float64\n",
      "areaMean                  285 non-null float64\n",
      "smoothnessMean            285 non-null float64\n",
      "compactnessMean           285 non-null float64\n",
      "concavityMean             285 non-null float64\n",
      "concavePointsMean         285 non-null float64\n",
      "symmetryMean              285 non-null float64\n",
      "fractalDimensionMean      285 non-null float64\n",
      "radiusStdErr              285 non-null float64\n",
      "textureStdErr             285 non-null float64\n",
      "perimeterStdErr           285 non-null float64\n",
      "areaStdErr                285 non-null float64\n",
      "smoothnessStdErr          285 non-null float64\n",
      "compactnessStdErr         285 non-null float64\n",
      "concavityStdErr           285 non-null float64\n",
      "concavePointsStdErr       285 non-null float64\n",
      "symmetryStdErr            285 non-null float64\n",
      "fractalDimensionStdErr    285 non-null float64\n",
      "radiusWorst               285 non-null float64\n",
      "textureWorst              285 non-null float64\n",
      "perimeterWorst            285 non-null float64\n",
      "areaWorst                 285 non-null float64\n",
      "smoothnessWorst           285 non-null float64\n",
      "compactnessWorst          285 non-null float64\n",
      "concavityWorst            285 non-null float64\n",
      "concavePointsWorst        285 non-null float64\n",
      "symmetryWorst             285 non-null float64\n",
      "dtypes: category(1), float64(29), int64(1)\n",
      "memory usage: 67.2 KB\n"
     ]
    },
    {
     "data": {
      "text/plain": [
       "ID                        0\n",
       "class                     0\n",
       "radiusMean                0\n",
       "textureMean               0\n",
       "perimeterMean             0\n",
       "areaMean                  0\n",
       "smoothnessMean            0\n",
       "compactnessMean           0\n",
       "concavityMean             0\n",
       "concavePointsMean         0\n",
       "symmetryMean              0\n",
       "fractalDimensionMean      0\n",
       "radiusStdErr              0\n",
       "textureStdErr             0\n",
       "perimeterStdErr           0\n",
       "areaStdErr                0\n",
       "smoothnessStdErr          0\n",
       "compactnessStdErr         0\n",
       "concavityStdErr           0\n",
       "concavePointsStdErr       0\n",
       "symmetryStdErr            0\n",
       "fractalDimensionStdErr    0\n",
       "radiusWorst               0\n",
       "textureWorst              0\n",
       "perimeterWorst            0\n",
       "areaWorst                 0\n",
       "smoothnessWorst           0\n",
       "compactnessWorst          0\n",
       "concavityWorst            0\n",
       "concavePointsWorst        0\n",
       "symmetryWorst             0\n",
       "dtype: int64"
      ]
     },
     "execution_count": 47,
     "metadata": {},
     "output_type": "execute_result"
    }
   ],
   "source": [
    "### check Data Types\n",
    "cancer.info()\n",
    "# class should be nominal\n",
    "cancer[\"class\"] = cancer[\"class\"].astype(\"category\")\n",
    "### there are no missing values\n",
    "cancer.isna().sum()"
   ]
  },
  {
   "cell_type": "code",
   "execution_count": 62,
   "metadata": {},
   "outputs": [
    {
     "data": {
      "text/html": [
       "<div>\n",
       "<style scoped>\n",
       "    .dataframe tbody tr th:only-of-type {\n",
       "        vertical-align: middle;\n",
       "    }\n",
       "\n",
       "    .dataframe tbody tr th {\n",
       "        vertical-align: top;\n",
       "    }\n",
       "\n",
       "    .dataframe thead th {\n",
       "        text-align: right;\n",
       "    }\n",
       "</style>\n",
       "<table border=\"1\" class=\"dataframe\">\n",
       "  <thead>\n",
       "    <tr style=\"text-align: right;\">\n",
       "      <th></th>\n",
       "      <th>ID</th>\n",
       "      <th>radiusMean</th>\n",
       "      <th>textureMean</th>\n",
       "      <th>perimeterMean</th>\n",
       "      <th>areaMean</th>\n",
       "      <th>smoothnessMean</th>\n",
       "      <th>compactnessMean</th>\n",
       "      <th>concavityMean</th>\n",
       "      <th>concavePointsMean</th>\n",
       "      <th>symmetryMean</th>\n",
       "      <th>fractalDimensionMean</th>\n",
       "      <th>radiusStdErr</th>\n",
       "      <th>textureStdErr</th>\n",
       "      <th>perimeterStdErr</th>\n",
       "      <th>areaStdErr</th>\n",
       "      <th>smoothnessStdErr</th>\n",
       "      <th>compactnessStdErr</th>\n",
       "      <th>concavityStdErr</th>\n",
       "      <th>concavePointsStdErr</th>\n",
       "      <th>symmetryStdErr</th>\n",
       "      <th>fractalDimensionStdErr</th>\n",
       "      <th>radiusWorst</th>\n",
       "      <th>textureWorst</th>\n",
       "      <th>perimeterWorst</th>\n",
       "      <th>areaWorst</th>\n",
       "      <th>smoothnessWorst</th>\n",
       "      <th>compactnessWorst</th>\n",
       "      <th>concavityWorst</th>\n",
       "      <th>concavePointsWorst</th>\n",
       "      <th>symmetryWorst</th>\n",
       "    </tr>\n",
       "  </thead>\n",
       "  <tbody>\n",
       "    <tr>\n",
       "      <th>count</th>\n",
       "      <td>2.850000e+02</td>\n",
       "      <td>285.000000</td>\n",
       "      <td>285.000000</td>\n",
       "      <td>285.000000</td>\n",
       "      <td>285.000000</td>\n",
       "      <td>285.000000</td>\n",
       "      <td>285.000000</td>\n",
       "      <td>285.000000</td>\n",
       "      <td>285.000000</td>\n",
       "      <td>285.000000</td>\n",
       "      <td>285.000000</td>\n",
       "      <td>285.000000</td>\n",
       "      <td>285.000000</td>\n",
       "      <td>285.000000</td>\n",
       "      <td>285.000000</td>\n",
       "      <td>285.000000</td>\n",
       "      <td>285.000000</td>\n",
       "      <td>285.000000</td>\n",
       "      <td>285.000000</td>\n",
       "      <td>285.000000</td>\n",
       "      <td>285.000000</td>\n",
       "      <td>285.000000</td>\n",
       "      <td>285.000000</td>\n",
       "      <td>285.000000</td>\n",
       "      <td>285.000000</td>\n",
       "      <td>285.000000</td>\n",
       "      <td>285.000000</td>\n",
       "      <td>285.000000</td>\n",
       "      <td>285.000000</td>\n",
       "      <td>285.000000</td>\n",
       "    </tr>\n",
       "    <tr>\n",
       "      <th>mean</th>\n",
       "      <td>3.024415e+07</td>\n",
       "      <td>13.857832</td>\n",
       "      <td>19.310000</td>\n",
       "      <td>90.076070</td>\n",
       "      <td>625.102105</td>\n",
       "      <td>0.095960</td>\n",
       "      <td>0.101917</td>\n",
       "      <td>0.084848</td>\n",
       "      <td>0.046362</td>\n",
       "      <td>0.180695</td>\n",
       "      <td>0.062898</td>\n",
       "      <td>0.381560</td>\n",
       "      <td>1.265625</td>\n",
       "      <td>2.688862</td>\n",
       "      <td>35.582670</td>\n",
       "      <td>0.007287</td>\n",
       "      <td>0.025752</td>\n",
       "      <td>0.032762</td>\n",
       "      <td>0.012112</td>\n",
       "      <td>0.020977</td>\n",
       "      <td>0.003909</td>\n",
       "      <td>15.823884</td>\n",
       "      <td>25.665825</td>\n",
       "      <td>104.135123</td>\n",
       "      <td>823.488421</td>\n",
       "      <td>0.132186</td>\n",
       "      <td>0.249617</td>\n",
       "      <td>0.265468</td>\n",
       "      <td>0.112228</td>\n",
       "      <td>0.290091</td>\n",
       "    </tr>\n",
       "    <tr>\n",
       "      <th>std</th>\n",
       "      <td>1.295562e+08</td>\n",
       "      <td>3.252277</td>\n",
       "      <td>4.277718</td>\n",
       "      <td>22.227367</td>\n",
       "      <td>310.526144</td>\n",
       "      <td>0.013481</td>\n",
       "      <td>0.048350</td>\n",
       "      <td>0.073680</td>\n",
       "      <td>0.034868</td>\n",
       "      <td>0.028748</td>\n",
       "      <td>0.007271</td>\n",
       "      <td>0.209815</td>\n",
       "      <td>0.604729</td>\n",
       "      <td>1.449513</td>\n",
       "      <td>28.148884</td>\n",
       "      <td>0.003228</td>\n",
       "      <td>0.017407</td>\n",
       "      <td>0.032761</td>\n",
       "      <td>0.006495</td>\n",
       "      <td>0.008446</td>\n",
       "      <td>0.002756</td>\n",
       "      <td>4.361540</td>\n",
       "      <td>6.128468</td>\n",
       "      <td>29.847173</td>\n",
       "      <td>482.465945</td>\n",
       "      <td>0.022661</td>\n",
       "      <td>0.151791</td>\n",
       "      <td>0.201241</td>\n",
       "      <td>0.063620</td>\n",
       "      <td>0.067542</td>\n",
       "    </tr>\n",
       "    <tr>\n",
       "      <th>min</th>\n",
       "      <td>8.670000e+03</td>\n",
       "      <td>7.729000</td>\n",
       "      <td>9.710000</td>\n",
       "      <td>47.920000</td>\n",
       "      <td>178.800000</td>\n",
       "      <td>0.052630</td>\n",
       "      <td>0.023440</td>\n",
       "      <td>0.000000</td>\n",
       "      <td>0.000000</td>\n",
       "      <td>0.106000</td>\n",
       "      <td>0.049960</td>\n",
       "      <td>0.111500</td>\n",
       "      <td>0.360200</td>\n",
       "      <td>0.757000</td>\n",
       "      <td>6.802000</td>\n",
       "      <td>0.001713</td>\n",
       "      <td>0.003012</td>\n",
       "      <td>0.000000</td>\n",
       "      <td>0.000000</td>\n",
       "      <td>0.007882</td>\n",
       "      <td>0.000895</td>\n",
       "      <td>8.952000</td>\n",
       "      <td>12.020000</td>\n",
       "      <td>56.650000</td>\n",
       "      <td>240.100000</td>\n",
       "      <td>0.071170</td>\n",
       "      <td>0.027290</td>\n",
       "      <td>0.000000</td>\n",
       "      <td>0.000000</td>\n",
       "      <td>0.156500</td>\n",
       "    </tr>\n",
       "    <tr>\n",
       "      <th>25%</th>\n",
       "      <td>8.711490e+05</td>\n",
       "      <td>11.570000</td>\n",
       "      <td>16.170000</td>\n",
       "      <td>74.200000</td>\n",
       "      <td>409.100000</td>\n",
       "      <td>0.086370</td>\n",
       "      <td>0.064920</td>\n",
       "      <td>0.030460</td>\n",
       "      <td>0.021680</td>\n",
       "      <td>0.161900</td>\n",
       "      <td>0.057810</td>\n",
       "      <td>0.235700</td>\n",
       "      <td>0.855400</td>\n",
       "      <td>1.670000</td>\n",
       "      <td>18.150000</td>\n",
       "      <td>0.005324</td>\n",
       "      <td>0.013310</td>\n",
       "      <td>0.015100</td>\n",
       "      <td>0.007711</td>\n",
       "      <td>0.015270</td>\n",
       "      <td>0.002248</td>\n",
       "      <td>12.840000</td>\n",
       "      <td>21.190000</td>\n",
       "      <td>83.850000</td>\n",
       "      <td>505.600000</td>\n",
       "      <td>0.117200</td>\n",
       "      <td>0.146000</td>\n",
       "      <td>0.116800</td>\n",
       "      <td>0.063430</td>\n",
       "      <td>0.247700</td>\n",
       "    </tr>\n",
       "    <tr>\n",
       "      <th>50%</th>\n",
       "      <td>9.055020e+05</td>\n",
       "      <td>13.150000</td>\n",
       "      <td>18.910000</td>\n",
       "      <td>84.450000</td>\n",
       "      <td>536.900000</td>\n",
       "      <td>0.095940</td>\n",
       "      <td>0.092180</td>\n",
       "      <td>0.059280</td>\n",
       "      <td>0.032640</td>\n",
       "      <td>0.177800</td>\n",
       "      <td>0.061470</td>\n",
       "      <td>0.319700</td>\n",
       "      <td>1.169000</td>\n",
       "      <td>2.284000</td>\n",
       "      <td>24.280000</td>\n",
       "      <td>0.006494</td>\n",
       "      <td>0.021210</td>\n",
       "      <td>0.026110</td>\n",
       "      <td>0.011430</td>\n",
       "      <td>0.019160</td>\n",
       "      <td>0.003299</td>\n",
       "      <td>14.670000</td>\n",
       "      <td>25.440000</td>\n",
       "      <td>96.310000</td>\n",
       "      <td>657.000000</td>\n",
       "      <td>0.130300</td>\n",
       "      <td>0.211900</td>\n",
       "      <td>0.210200</td>\n",
       "      <td>0.099100</td>\n",
       "      <td>0.280400</td>\n",
       "    </tr>\n",
       "    <tr>\n",
       "      <th>75%</th>\n",
       "      <td>8.711561e+06</td>\n",
       "      <td>15.490000</td>\n",
       "      <td>21.800000</td>\n",
       "      <td>102.500000</td>\n",
       "      <td>748.900000</td>\n",
       "      <td>0.104600</td>\n",
       "      <td>0.129600</td>\n",
       "      <td>0.120400</td>\n",
       "      <td>0.065760</td>\n",
       "      <td>0.195300</td>\n",
       "      <td>0.066080</td>\n",
       "      <td>0.474300</td>\n",
       "      <td>1.502000</td>\n",
       "      <td>3.312000</td>\n",
       "      <td>44.910000</td>\n",
       "      <td>0.008499</td>\n",
       "      <td>0.033680</td>\n",
       "      <td>0.043450</td>\n",
       "      <td>0.015380</td>\n",
       "      <td>0.023830</td>\n",
       "      <td>0.004672</td>\n",
       "      <td>18.070000</td>\n",
       "      <td>30.360000</td>\n",
       "      <td>121.200000</td>\n",
       "      <td>989.500000</td>\n",
       "      <td>0.146100</td>\n",
       "      <td>0.341600</td>\n",
       "      <td>0.382900</td>\n",
       "      <td>0.156100</td>\n",
       "      <td>0.316800</td>\n",
       "    </tr>\n",
       "    <tr>\n",
       "      <th>max</th>\n",
       "      <td>9.113205e+08</td>\n",
       "      <td>27.220000</td>\n",
       "      <td>33.810000</td>\n",
       "      <td>182.100000</td>\n",
       "      <td>2250.000000</td>\n",
       "      <td>0.142500</td>\n",
       "      <td>0.283900</td>\n",
       "      <td>0.410800</td>\n",
       "      <td>0.187800</td>\n",
       "      <td>0.304000</td>\n",
       "      <td>0.097440</td>\n",
       "      <td>1.370000</td>\n",
       "      <td>4.885000</td>\n",
       "      <td>9.424000</td>\n",
       "      <td>176.500000</td>\n",
       "      <td>0.031130</td>\n",
       "      <td>0.100600</td>\n",
       "      <td>0.396000</td>\n",
       "      <td>0.052790</td>\n",
       "      <td>0.061460</td>\n",
       "      <td>0.029840</td>\n",
       "      <td>33.120000</td>\n",
       "      <td>45.410000</td>\n",
       "      <td>220.800000</td>\n",
       "      <td>3216.000000</td>\n",
       "      <td>0.222600</td>\n",
       "      <td>1.058000</td>\n",
       "      <td>1.105000</td>\n",
       "      <td>0.273300</td>\n",
       "      <td>0.663800</td>\n",
       "    </tr>\n",
       "  </tbody>\n",
       "</table>\n",
       "</div>"
      ],
      "text/plain": [
       "                 ID  radiusMean  textureMean  perimeterMean     areaMean  \\\n",
       "count  2.850000e+02  285.000000   285.000000     285.000000   285.000000   \n",
       "mean   3.024415e+07   13.857832    19.310000      90.076070   625.102105   \n",
       "std    1.295562e+08    3.252277     4.277718      22.227367   310.526144   \n",
       "min    8.670000e+03    7.729000     9.710000      47.920000   178.800000   \n",
       "25%    8.711490e+05   11.570000    16.170000      74.200000   409.100000   \n",
       "50%    9.055020e+05   13.150000    18.910000      84.450000   536.900000   \n",
       "75%    8.711561e+06   15.490000    21.800000     102.500000   748.900000   \n",
       "max    9.113205e+08   27.220000    33.810000     182.100000  2250.000000   \n",
       "\n",
       "       smoothnessMean  compactnessMean  concavityMean  concavePointsMean  \\\n",
       "count      285.000000       285.000000     285.000000         285.000000   \n",
       "mean         0.095960         0.101917       0.084848           0.046362   \n",
       "std          0.013481         0.048350       0.073680           0.034868   \n",
       "min          0.052630         0.023440       0.000000           0.000000   \n",
       "25%          0.086370         0.064920       0.030460           0.021680   \n",
       "50%          0.095940         0.092180       0.059280           0.032640   \n",
       "75%          0.104600         0.129600       0.120400           0.065760   \n",
       "max          0.142500         0.283900       0.410800           0.187800   \n",
       "\n",
       "       symmetryMean  fractalDimensionMean  radiusStdErr  textureStdErr  \\\n",
       "count    285.000000            285.000000    285.000000     285.000000   \n",
       "mean       0.180695              0.062898      0.381560       1.265625   \n",
       "std        0.028748              0.007271      0.209815       0.604729   \n",
       "min        0.106000              0.049960      0.111500       0.360200   \n",
       "25%        0.161900              0.057810      0.235700       0.855400   \n",
       "50%        0.177800              0.061470      0.319700       1.169000   \n",
       "75%        0.195300              0.066080      0.474300       1.502000   \n",
       "max        0.304000              0.097440      1.370000       4.885000   \n",
       "\n",
       "       perimeterStdErr  areaStdErr  smoothnessStdErr  compactnessStdErr  \\\n",
       "count       285.000000  285.000000        285.000000         285.000000   \n",
       "mean          2.688862   35.582670          0.007287           0.025752   \n",
       "std           1.449513   28.148884          0.003228           0.017407   \n",
       "min           0.757000    6.802000          0.001713           0.003012   \n",
       "25%           1.670000   18.150000          0.005324           0.013310   \n",
       "50%           2.284000   24.280000          0.006494           0.021210   \n",
       "75%           3.312000   44.910000          0.008499           0.033680   \n",
       "max           9.424000  176.500000          0.031130           0.100600   \n",
       "\n",
       "       concavityStdErr  concavePointsStdErr  symmetryStdErr  \\\n",
       "count       285.000000           285.000000      285.000000   \n",
       "mean          0.032762             0.012112        0.020977   \n",
       "std           0.032761             0.006495        0.008446   \n",
       "min           0.000000             0.000000        0.007882   \n",
       "25%           0.015100             0.007711        0.015270   \n",
       "50%           0.026110             0.011430        0.019160   \n",
       "75%           0.043450             0.015380        0.023830   \n",
       "max           0.396000             0.052790        0.061460   \n",
       "\n",
       "       fractalDimensionStdErr  radiusWorst  textureWorst  perimeterWorst  \\\n",
       "count              285.000000   285.000000    285.000000      285.000000   \n",
       "mean                 0.003909    15.823884     25.665825      104.135123   \n",
       "std                  0.002756     4.361540      6.128468       29.847173   \n",
       "min                  0.000895     8.952000     12.020000       56.650000   \n",
       "25%                  0.002248    12.840000     21.190000       83.850000   \n",
       "50%                  0.003299    14.670000     25.440000       96.310000   \n",
       "75%                  0.004672    18.070000     30.360000      121.200000   \n",
       "max                  0.029840    33.120000     45.410000      220.800000   \n",
       "\n",
       "         areaWorst  smoothnessWorst  compactnessWorst  concavityWorst  \\\n",
       "count   285.000000       285.000000        285.000000      285.000000   \n",
       "mean    823.488421         0.132186          0.249617        0.265468   \n",
       "std     482.465945         0.022661          0.151791        0.201241   \n",
       "min     240.100000         0.071170          0.027290        0.000000   \n",
       "25%     505.600000         0.117200          0.146000        0.116800   \n",
       "50%     657.000000         0.130300          0.211900        0.210200   \n",
       "75%     989.500000         0.146100          0.341600        0.382900   \n",
       "max    3216.000000         0.222600          1.058000        1.105000   \n",
       "\n",
       "       concavePointsWorst  symmetryWorst  \n",
       "count          285.000000     285.000000  \n",
       "mean             0.112228       0.290091  \n",
       "std              0.063620       0.067542  \n",
       "min              0.000000       0.156500  \n",
       "25%              0.063430       0.247700  \n",
       "50%              0.099100       0.280400  \n",
       "75%              0.156100       0.316800  \n",
       "max              0.273300       0.663800  "
      ]
     },
     "execution_count": 62,
     "metadata": {},
     "output_type": "execute_result"
    }
   ],
   "source": [
    "cancer.describe()"
   ]
  },
  {
   "cell_type": "code",
   "execution_count": 63,
   "metadata": {},
   "outputs": [
    {
     "data": {
      "text/plain": [
       "<matplotlib.axes._subplots.AxesSubplot at 0x7f54ff63bb00>"
      ]
     },
     "execution_count": 63,
     "metadata": {},
     "output_type": "execute_result"
    },
    {
     "data": {
      "image/png": "[encoded data removed]",
      "text/plain": [
       "<Figure size 432x288 with 1 Axes>"
      ]
     },
     "metadata": {
      "needs_background": "light"
     },
     "output_type": "display_data"
    }
   ],
   "source": [
    "# class distribution\n",
    "class_table = pd.crosstab(cancer[\"class\"], columns = \"count\")\n",
    "class_table = class_table/class_table.sum()\n",
    "class_table.plot(kind = \"bar\")\n",
    "# \n"
   ]
  },
  {
   "cell_type": "code",
   "execution_count": 76,
   "metadata": {},
   "outputs": [
    {
     "data": {
      "text/plain": [
       "<matplotlib.axes._subplots.AxesSubplot at 0x7f54fd727128>"
      ]
     },
     "execution_count": 76,
     "metadata": {},
     "output_type": "execute_result"
    },
    {
     "data": {
      "image/png": "[encoded data removed]",
      "text/plain": [
       "<Figure size 432x288 with 1 Axes>"
      ]
     },
     "metadata": {
      "needs_background": "light"
     },
     "output_type": "display_data"
    }
   ],
   "source": [
    "cancer.boxplot(header[2:5])"
   ]
  },
  {
   "cell_type": "code",
   "execution_count": 94,
   "metadata": {},
   "outputs": [
    {
     "data": {
      "text/plain": [
       "<matplotlib.axes._subplots.AxesSubplot at 0x7f54fcc87ba8>"
      ]
     },
     "execution_count": 94,
     "metadata": {},
     "output_type": "execute_result"
    },
    {
     "data": {
      "image/png": "[encoded data removed]",
      "text/plain": [
       "<Figure size 432x288 with 1 Axes>"
      ]
     },
     "metadata": {
      "needs_background": "light"
     },
     "output_type": "display_data"
    }
   ],
   "source": [
    "cancer.boxplot(header[5])"
   ]
  },
  {
   "cell_type": "code",
   "execution_count": 99,
   "metadata": {},
   "outputs": [
    {
     "data": {
      "text/plain": [
       "<matplotlib.axes._subplots.AxesSubplot at 0x7f54fcc7abe0>"
      ]
     },
     "execution_count": 99,
     "metadata": {},
     "output_type": "execute_result"
    },
    {
     "data": {
      "image/png": "[encoded data removed]",
      "text/plain": [
       "<Figure size 432x288 with 1 Axes>"
      ]
     },
     "metadata": {
      "needs_background": "light"
     },
     "output_type": "display_data"
    }
   ],
   "source": [
    "cancer.boxplot(header[6:12])"
   ]
  },
  {
   "cell_type": "code",
   "execution_count": 102,
   "metadata": {},
   "outputs": [
    {
     "data": {
      "text/plain": [
       "<matplotlib.axes._subplots.AxesSubplot at 0x7f54fc7b2940>"
      ]
     },
     "execution_count": 102,
     "metadata": {},
     "output_type": "execute_result"
    },
    {
     "data": {
      "image/png": "[encoded data removed]",
      "text/plain": [
       "<Figure size 432x288 with 1 Axes>"
      ]
     },
     "metadata": {
      "needs_background": "light"
     },
     "output_type": "display_data"
    }
   ],
   "source": [
    "cancer.boxplot(header[12:14])"
   ]
  }
 ],
 "metadata": {
  "kernelspec": {
   "display_name": "Python 3",
   "language": "python",
   "name": "python3"
  },
  "language_info": {
   "codemirror_mode": {
    "name": "ipython",
    "version": 3
   },
   "file_extension": ".py",
   "mimetype": "text/x-python",
   "name": "python",
   "nbconvert_exporter": "python",
   "pygments_lexer": "ipython3",
   "version": "3.7.0"
  }
 },
 "nbformat": 4,
 "nbformat_minor": 2
}
